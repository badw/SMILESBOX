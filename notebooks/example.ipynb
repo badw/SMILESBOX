{
 "cells": [
  {
   "cell_type": "code",
   "execution_count": 5,
   "metadata": {},
   "outputs": [],
   "source": [
    "from smilesbox.smilesbox import SMILESbox as sb"
   ]
  },
  {
   "cell_type": "code",
   "execution_count": 9,
   "metadata": {},
   "outputs": [],
   "source": [
    "molecule = {1:'O=S(=O)([N-]S(=O)(=O)C(F)(F)F)C(F)(F)F'}"
   ]
  },
  {
   "cell_type": "code",
   "execution_count": 11,
   "metadata": {},
   "outputs": [],
   "source": [
    "mol = sb().download_molecule_from_smiles(molecule)"
   ]
  },
  {
   "cell_type": "code",
   "execution_count": 12,
   "metadata": {},
   "outputs": [
    {
     "data": {
      "text/plain": [
       "{1: None}"
      ]
     },
     "execution_count": 12,
     "metadata": {},
     "output_type": "execute_result"
    }
   ],
   "source": [
    "mol"
   ]
  },
  {
   "cell_type": "code",
   "execution_count": 13,
   "metadata": {},
   "outputs": [],
   "source": [
    "import openbabel"
   ]
  },
  {
   "cell_type": "code",
   "execution_count": 16,
   "metadata": {},
   "outputs": [],
   "source": [
    "import pybel"
   ]
  },
  {
   "cell_type": "code",
   "execution_count": 19,
   "metadata": {},
   "outputs": [],
   "source": [
    "from openbabel import pybel"
   ]
  },
  {
   "cell_type": "code",
   "execution_count": 23,
   "metadata": {},
   "outputs": [],
   "source": [
    "molecule = pybel.readstring(\"smi\",\"O=S(=O)([N-]S(=O)(=O)C(F)(F)F)C(F)(F)F\")"
   ]
  },
  {
   "cell_type": "code",
   "execution_count": 25,
   "metadata": {},
   "outputs": [],
   "source": [
    "molecule.make3D()"
   ]
  },
  {
   "cell_type": "code",
   "execution_count": 31,
   "metadata": {},
   "outputs": [],
   "source": [
    "from ase import Atoms"
   ]
  },
  {
   "cell_type": "code",
   "execution_count": 32,
   "metadata": {},
   "outputs": [
    {
     "ename": "TypeError",
     "evalue": "int() argument must be a string, a bytes-like object or a number, not 'Atom'",
     "output_type": "error",
     "traceback": [
      "\u001b[0;31m---------------------------------------------------------------------------\u001b[0m",
      "\u001b[0;31mTypeError\u001b[0m                                 Traceback (most recent call last)",
      "\u001b[1;32m/Users/badw/github-projects/smilesbox/notebooks/example.ipynb Cell 11\u001b[0m line \u001b[0;36m1\n\u001b[0;32m----> <a href='vscode-notebook-cell:/Users/badw/github-projects/smilesbox/notebooks/example.ipynb#X16sZmlsZQ%3D%3D?line=0'>1</a>\u001b[0m Atoms(molecule\u001b[39m.\u001b[39;49matoms)\n",
      "File \u001b[0;32m~/miniconda3/envs/py39/lib/python3.9/site-packages/ase/atoms.py:208\u001b[0m, in \u001b[0;36mAtoms.__init__\u001b[0;34m(self, symbols, positions, numbers, tags, momenta, masses, magmoms, charges, scaled_positions, cell, pbc, celldisp, constraint, calculator, info, velocities)\u001b[0m\n\u001b[1;32m    205\u001b[0m         \u001b[39mraise\u001b[39;00m \u001b[39mTypeError\u001b[39;00m(\n\u001b[1;32m    206\u001b[0m             \u001b[39m'\u001b[39m\u001b[39mUse only one of \u001b[39m\u001b[39m\"\u001b[39m\u001b[39msymbols\u001b[39m\u001b[39m\"\u001b[39m\u001b[39m and \u001b[39m\u001b[39m\"\u001b[39m\u001b[39mnumbers\u001b[39m\u001b[39m\"\u001b[39m\u001b[39m.\u001b[39m\u001b[39m'\u001b[39m)\n\u001b[1;32m    207\u001b[0m     \u001b[39melse\u001b[39;00m:\n\u001b[0;32m--> 208\u001b[0m         \u001b[39mself\u001b[39m\u001b[39m.\u001b[39mnew_array(\u001b[39m'\u001b[39m\u001b[39mnumbers\u001b[39m\u001b[39m'\u001b[39m, symbols2numbers(symbols), \u001b[39mint\u001b[39m)\n\u001b[1;32m    210\u001b[0m \u001b[39mif\u001b[39;00m \u001b[39mself\u001b[39m\u001b[39m.\u001b[39mnumbers\u001b[39m.\u001b[39mndim \u001b[39m!=\u001b[39m \u001b[39m1\u001b[39m:\n\u001b[1;32m    211\u001b[0m     \u001b[39mraise\u001b[39;00m \u001b[39mValueError\u001b[39;00m(\u001b[39m'\u001b[39m\u001b[39m\"\u001b[39m\u001b[39mnumbers\u001b[39m\u001b[39m\"\u001b[39m\u001b[39m must be 1-dimensional.\u001b[39m\u001b[39m'\u001b[39m)\n",
      "File \u001b[0;32m~/miniconda3/envs/py39/lib/python3.9/site-packages/ase/symbols.py:24\u001b[0m, in \u001b[0;36msymbols2numbers\u001b[0;34m(symbols)\u001b[0m\n\u001b[1;32m     22\u001b[0m         numbers\u001b[39m.\u001b[39mappend(atomic_numbers[s])\n\u001b[1;32m     23\u001b[0m     \u001b[39melse\u001b[39;00m:\n\u001b[0;32m---> 24\u001b[0m         numbers\u001b[39m.\u001b[39mappend(\u001b[39mint\u001b[39;49m(s))\n\u001b[1;32m     25\u001b[0m \u001b[39mreturn\u001b[39;00m numbers\n",
      "\u001b[0;31mTypeError\u001b[0m: int() argument must be a string, a bytes-like object or a number, not 'Atom'"
     ]
    }
   ],
   "source": [
    "Atoms(molecule.atoms)"
   ]
  },
  {
   "cell_type": "code",
   "execution_count": 40,
   "metadata": {},
   "outputs": [
    {
     "ename": "AttributeError",
     "evalue": "'Atom' object has no attribute 'num'",
     "output_type": "error",
     "traceback": [
      "\u001b[0;31m---------------------------------------------------------------------------\u001b[0m",
      "\u001b[0;31mAttributeError\u001b[0m                            Traceback (most recent call last)",
      "\u001b[1;32m/Users/badw/github-projects/smilesbox/notebooks/example.ipynb Cell 12\u001b[0m line \u001b[0;36m1\n\u001b[0;32m----> <a href='vscode-notebook-cell:/Users/badw/github-projects/smilesbox/notebooks/example.ipynb#X20sZmlsZQ%3D%3D?line=0'>1</a>\u001b[0m [(i\u001b[39m.\u001b[39mnum,i\u001b[39m.\u001b[39mcoords) \u001b[39mfor\u001b[39;00m i \u001b[39min\u001b[39;00m molecule\u001b[39m.\u001b[39matoms]\n",
      "\u001b[1;32m/Users/badw/github-projects/smilesbox/notebooks/example.ipynb Cell 12\u001b[0m line \u001b[0;36m1\n\u001b[0;32m----> <a href='vscode-notebook-cell:/Users/badw/github-projects/smilesbox/notebooks/example.ipynb#X20sZmlsZQ%3D%3D?line=0'>1</a>\u001b[0m [(i\u001b[39m.\u001b[39;49mnum,i\u001b[39m.\u001b[39mcoords) \u001b[39mfor\u001b[39;00m i \u001b[39min\u001b[39;00m molecule\u001b[39m.\u001b[39matoms]\n",
      "\u001b[0;31mAttributeError\u001b[0m: 'Atom' object has no attribute 'num'"
     ]
    }
   ],
   "source": [
    "[(i.num,i.coords) for i in molecule.atoms]"
   ]
  },
  {
   "cell_type": "code",
   "execution_count": 60,
   "metadata": {},
   "outputs": [
    {
     "data": {
      "text/plain": [
       "8"
      ]
     },
     "execution_count": 60,
     "metadata": {},
     "output_type": "execute_result"
    }
   ],
   "source": [
    "molecule.atoms[5].atomicnum"
   ]
  },
  {
   "cell_type": "code",
   "execution_count": 88,
   "metadata": {},
   "outputs": [],
   "source": [
    "symbols = []\n",
    "positions = []\n",
    "for i in molecule.atoms:\n",
    "    coords = list(i.coords)\n",
    "    atom = [k for k,v in ase.data.atomic_numbers.items() if v == i.atomicnum]\n",
    "    symbols.append(atom[0])\n",
    "    positions.append(coords)"
   ]
  },
  {
   "cell_type": "code",
   "execution_count": 89,
   "metadata": {},
   "outputs": [
    {
     "data": {
      "text/plain": [
       "['O', 'S', 'O', 'N', 'S', 'O', 'O', 'C', 'F', 'F', 'F', 'C', 'F', 'F', 'F']"
      ]
     },
     "execution_count": 89,
     "metadata": {},
     "output_type": "execute_result"
    }
   ],
   "source": [
    "symbols"
   ]
  },
  {
   "cell_type": "code",
   "execution_count": 101,
   "metadata": {},
   "outputs": [],
   "source": [
    "at = Atoms(symbols=symbols,positions=positions,pbc=True,cell=[10,10,10])\n",
    "at.center()\n",
    "at.rotate(90,'x')"
   ]
  },
  {
   "cell_type": "code",
   "execution_count": 102,
   "metadata": {},
   "outputs": [],
   "source": [
    "at.write('test.vasp')"
   ]
  },
  {
   "cell_type": "code",
   "execution_count": null,
   "metadata": {},
   "outputs": [],
   "source": []
  }
 ],
 "metadata": {
  "kernelspec": {
   "display_name": "py39",
   "language": "python",
   "name": "python3"
  },
  "language_info": {
   "codemirror_mode": {
    "name": "ipython",
    "version": 3
   },
   "file_extension": ".py",
   "mimetype": "text/x-python",
   "name": "python",
   "nbconvert_exporter": "python",
   "pygments_lexer": "ipython3",
   "version": "3.9.16"
  },
  "orig_nbformat": 4
 },
 "nbformat": 4,
 "nbformat_minor": 2
}
