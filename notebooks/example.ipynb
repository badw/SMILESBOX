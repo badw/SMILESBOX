{
 "cells": [
  {
   "cell_type": "code",
   "execution_count": 1,
   "metadata": {},
   "outputs": [],
   "source": [
    "from smilesbox.smilesbox import SMILESbox"
   ]
  },
  {
   "cell_type": "code",
   "execution_count": 2,
   "metadata": {},
   "outputs": [],
   "source": [
    "molecule = 'O=S(=O)([N-]S(=O)(=O)C(F)(F)F)C(F)(F)F'"
   ]
  },
  {
   "cell_type": "code",
   "execution_count": 3,
   "metadata": {},
   "outputs": [
    {
     "ename": "AttributeError",
     "evalue": "'SMILESbox' object has no attribute 'smiles_to_atoms'",
     "output_type": "error",
     "traceback": [
      "\u001b[0;31m---------------------------------------------------------------------------\u001b[0m",
      "\u001b[0;31mAttributeError\u001b[0m                            Traceback (most recent call last)",
      "\u001b[1;32m/Users/badw/github-projects/smilesbox/notebooks/example.ipynb Cell 3\u001b[0m line \u001b[0;36m2\n\u001b[1;32m      <a href='vscode-notebook-cell:/Users/badw/github-projects/smilesbox/notebooks/example.ipynb#X13sZmlsZQ%3D%3D?line=0'>1</a>\u001b[0m sb \u001b[39m=\u001b[39m SMILESbox()\n\u001b[0;32m----> <a href='vscode-notebook-cell:/Users/badw/github-projects/smilesbox/notebooks/example.ipynb#X13sZmlsZQ%3D%3D?line=1'>2</a>\u001b[0m sb\u001b[39m.\u001b[39;49msmiles_to_atoms(molecule)\n",
      "\u001b[0;31mAttributeError\u001b[0m: 'SMILESbox' object has no attribute 'smiles_to_atoms'"
     ]
    }
   ],
   "source": [
    "sb = SMILESbox()\n",
    "sb.smiles_to_atoms(molecule)"
   ]
  }
 ],
 "metadata": {
  "kernelspec": {
   "display_name": "py39",
   "language": "python",
   "name": "python3"
  },
  "language_info": {
   "codemirror_mode": {
    "name": "ipython",
    "version": 3
   },
   "file_extension": ".py",
   "mimetype": "text/x-python",
   "name": "python",
   "nbconvert_exporter": "python",
   "pygments_lexer": "ipython3",
   "version": "3.9.16"
  },
  "orig_nbformat": 4
 },
 "nbformat": 4,
 "nbformat_minor": 2
}
